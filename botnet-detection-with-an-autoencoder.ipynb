{
 "cells": [
  {
   "cell_type": "markdown",
   "metadata": {},
   "source": [
    "## Deep Transfer Learning for IoT Attack Detection"
   ]
  },
  {
   "cell_type": "code",
   "execution_count": 1,
   "metadata": {
    "execution": {
     "iopub.execute_input": "2021-06-27T19:36:10.968915Z",
     "iopub.status.busy": "2021-06-27T19:36:10.968407Z",
     "iopub.status.idle": "2021-06-27T19:36:13.093142Z",
     "shell.execute_reply": "2021-06-27T19:36:13.092024Z",
     "shell.execute_reply.started": "2021-06-27T19:36:10.968790Z"
    }
   },
   "outputs": [],
   "source": [
    "import os\n",
    "import numpy as np\n",
    "import tensorflow as tf\n",
    "\n",
    "from sklearn.preprocessing import MinMaxScaler\n",
    "from tensorflow.keras import layers, losses, Sequential\n",
    "from tensorflow.keras.models import Model\n",
    "from tensorflow.keras.optimizers import Adam\n",
    "from tensorflow.keras.callbacks import EarlyStopping"
   ]
  },
  {
   "cell_type": "markdown",
   "metadata": {},
   "source": []
  },
  {
   "cell_type": "code",
   "execution_count": 2,
   "metadata": {
    "execution": {
     "iopub.execute_input": "2021-06-27T19:36:13.096045Z",
     "iopub.status.busy": "2021-06-27T19:36:13.095600Z",
     "iopub.status.idle": "2021-06-27T19:37:33.457727Z",
     "shell.execute_reply": "2021-06-27T19:37:33.454466Z",
     "shell.execute_reply.started": "2021-06-27T19:36:13.096001Z"
    }
   },
   "outputs": [],
   "source": [
    "def load_nbaiot(filename):\n",
    "    return np.loadtxt(\n",
    "        os.path.join(\"/kaggle/input/nbaiot-dataset\", filename),\n",
    "        delimiter=\",\",\n",
    "        skiprows=1\n",
    "    )\n",
    "\n",
    "benign = load_nbaiot(\"1.benign.csv\")\n",
    "X_train = benign[:40000]\n",
    "X_test0 = benign[40000:]\n",
    "X_test1 = load_nbaiot(\"1.mirai.scan.csv\")\n",
    "X_test2 = load_nbaiot(\"1.mirai.ack.csv\")\n",
    "X_test3 = load_nbaiot(\"1.mirai.syn.csv\")\n",
    "X_test4 = load_nbaiot(\"1.mirai.udp.csv\")\n",
    "X_test5 = load_nbaiot(\"1.mirai.udpplain.csv\")"
   ]
  },
  {
   "cell_type": "code",
   "execution_count": 3,
   "metadata": {
    "execution": {
     "iopub.execute_input": "2021-06-27T19:37:33.467503Z",
     "iopub.status.busy": "2021-06-27T19:37:33.466328Z",
     "iopub.status.idle": "2021-06-27T19:37:33.490832Z",
     "shell.execute_reply": "2021-06-27T19:37:33.488548Z",
     "shell.execute_reply.started": "2021-06-27T19:37:33.467353Z"
    }
   },
   "outputs": [
    {
     "name": "stdout",
     "output_type": "stream",
     "text": [
      "(40000, 115) (9548, 115) (107685, 115) (102195, 115) (122573, 115) (237665, 115) (81982, 115)\n"
     ]
    }
   ],
   "source": [
    "print(X_train.shape, X_test0.shape, X_test1.shape, X_test2.shape,\n",
    "      X_test3.shape, X_test4.shape, X_test5.shape)"
   ]
  },
  {
   "cell_type": "markdown",
   "metadata": {},
   "source": []
  },
  {
   "cell_type": "code",
   "execution_count": 4,
   "metadata": {
    "execution": {
     "iopub.execute_input": "2021-06-27T19:37:33.495035Z",
     "iopub.status.busy": "2021-06-27T19:37:33.494254Z",
     "iopub.status.idle": "2021-06-27T19:37:33.523976Z",
     "shell.execute_reply": "2021-06-27T19:37:33.521240Z",
     "shell.execute_reply.started": "2021-06-27T19:37:33.494949Z"
    }
   },
   "outputs": [],
   "source": [
    "class Autoencoder(Model):\n",
    "    def __init__(self):\n",
    "        super(Autoencoder, self).__init__()\n",
    "        self.encoder = Sequential([\n",
    "            layers.Dense(115, activation=\"relu\"),\n",
    "            layers.Dense(86, activation=\"relu\"),\n",
    "            layers.Dense(57, activation=\"relu\"),\n",
    "            layers.Dense(37, activation=\"relu\"),\n",
    "            layers.Dense(28, activation=\"relu\")\n",
    "        ])\n",
    "        self.decoder = Sequential([\n",
    "            layers.Dense(37, activation=\"relu\"),\n",
    "            layers.Dense(57, activation=\"relu\"),\n",
    "            layers.Dense(86, activation=\"relu\"),\n",
    "            layers.Dense(115, activation=\"sigmoid\")\n",
    "        ])\n",
    "    \n",
    "    def call(self, x):\n",
    "        encoded = self.encoder(x)\n",
    "        decoded = self.decoder(encoded)\n",
    "        return decoded"
   ]
  },
  {
   "cell_type": "markdown",
   "metadata": {},
   "source": []
  },
  {
   "cell_type": "code",
   "execution_count": 5,
   "metadata": {
    "execution": {
     "iopub.execute_input": "2021-06-27T19:37:33.528864Z",
     "iopub.status.busy": "2021-06-27T19:37:33.528054Z",
     "iopub.status.idle": "2021-06-27T19:38:17.941668Z",
     "shell.execute_reply": "2021-06-27T19:38:17.940558Z",
     "shell.execute_reply.started": "2021-06-27T19:37:33.528717Z"
    },
    "scrolled": true
   },
   "outputs": [
    {
     "name": "stdout",
     "output_type": "stream",
     "text": [
      "Epoch 1/800\n",
      "875/875 [==============================] - 4s 3ms/step - loss: 0.0091 - val_loss: 0.0012\n",
      "Epoch 2/800\n",
      "875/875 [==============================] - 3s 3ms/step - loss: 8.7749e-04 - val_loss: 0.0019\n",
      "Epoch 3/800\n",
      "875/875 [==============================] - 2s 2ms/step - loss: 9.1921e-04 - val_loss: 0.0012\n",
      "Epoch 4/800\n",
      "875/875 [==============================] - 2s 2ms/step - loss: 8.5484e-04 - val_loss: 0.0011\n",
      "Epoch 5/800\n",
      "875/875 [==============================] - 2s 2ms/step - loss: 7.3512e-04 - val_loss: 0.0012\n",
      "Epoch 6/800\n",
      "875/875 [==============================] - 2s 2ms/step - loss: 8.4734e-04 - val_loss: 0.0011\n",
      "Epoch 7/800\n",
      "875/875 [==============================] - 2s 2ms/step - loss: 7.7335e-04 - val_loss: 9.8745e-04\n",
      "Epoch 8/800\n",
      "875/875 [==============================] - 2s 2ms/step - loss: 7.6556e-04 - val_loss: 0.0012\n",
      "Epoch 9/800\n",
      "875/875 [==============================] - 2s 2ms/step - loss: 7.0133e-04 - val_loss: 8.5696e-04\n",
      "Epoch 10/800\n",
      "875/875 [==============================] - 2s 2ms/step - loss: 6.1422e-04 - val_loss: 7.6840e-04\n",
      "Epoch 11/800\n",
      "875/875 [==============================] - 2s 2ms/step - loss: 6.4241e-04 - val_loss: 7.8093e-04\n",
      "Epoch 12/800\n",
      "875/875 [==============================] - 2s 2ms/step - loss: 5.7480e-04 - val_loss: 7.6049e-04\n",
      "Epoch 13/800\n",
      "875/875 [==============================] - 2s 2ms/step - loss: 6.4757e-04 - val_loss: 7.7769e-04\n",
      "Epoch 14/800\n",
      "875/875 [==============================] - 2s 2ms/step - loss: 5.6877e-04 - val_loss: 7.3497e-04\n",
      "Epoch 15/800\n",
      "875/875 [==============================] - 2s 2ms/step - loss: 5.5190e-04 - val_loss: 0.0011\n",
      "Epoch 16/800\n",
      "875/875 [==============================] - 2s 2ms/step - loss: 6.5110e-04 - val_loss: 7.2074e-04\n",
      "Epoch 17/800\n",
      "875/875 [==============================] - 2s 2ms/step - loss: 6.2493e-04 - val_loss: 7.3007e-04\n",
      "Epoch 18/800\n",
      "875/875 [==============================] - 2s 2ms/step - loss: 6.1519e-04 - val_loss: 7.2200e-04\n",
      "Epoch 19/800\n",
      "875/875 [==============================] - 2s 2ms/step - loss: 6.4271e-04 - val_loss: 8.1397e-04\n",
      "Epoch 20/800\n",
      "875/875 [==============================] - 2s 2ms/step - loss: 5.8528e-04 - val_loss: 7.5453e-04\n",
      "Epoch 21/800\n",
      "875/875 [==============================] - 2s 2ms/step - loss: 5.5543e-04 - val_loss: 7.5675e-04\n",
      "Epoch 00021: early stopping\n"
     ]
    }
   ],
   "source": [
    "scaler = MinMaxScaler()\n",
    "x = scaler.fit_transform(X_train)\n",
    "\n",
    "ae = Autoencoder()\n",
    "ae.compile(optimizer=Adam(learning_rate=0.01), loss='mse')\n",
    "monitor = EarlyStopping(\n",
    "    monitor='val_loss',\n",
    "    min_delta=1e-9,\n",
    "    patience=5,\n",
    "    verbose=1,\n",
    "    mode='auto'\n",
    ")\n",
    "ae.fit(\n",
    "    x=x,\n",
    "    y=x,\n",
    "    epochs=800,\n",
    "    validation_split=0.3,\n",
    "    shuffle=True,\n",
    "    callbacks=[monitor]\n",
    ")\n",
    "\n",
    "training_loss = losses.mse(x, ae(x))\n",
    "threshold = np.mean(training_loss)+np.std(training_loss)"
   ]
  },
  {
   "cell_type": "code",
   "execution_count": 6,
   "metadata": {
    "execution": {
     "iopub.execute_input": "2021-06-27T19:38:17.944013Z",
     "iopub.status.busy": "2021-06-27T19:38:17.943524Z",
     "iopub.status.idle": "2021-06-27T19:38:17.951641Z",
     "shell.execute_reply": "2021-06-27T19:38:17.950430Z",
     "shell.execute_reply.started": "2021-06-27T19:38:17.943964Z"
    }
   },
   "outputs": [],
   "source": [
    "def predict(x, threshold=threshold, window_size=82):\n",
    "    x = scaler.transform(x)\n",
    "    predictions = losses.mse(x, ae(x)) > threshold\n",
    "    # Majority voting over `window_size` predictions\n",
    "    return np.array([np.mean(predictions[i-window_size:i]) > 0.5\n",
    "                     for i in range(window_size, len(predictions)+1)])\n",
    "\n",
    "def print_stats(data, outcome):\n",
    "    print(f\"Shape of data: {data.shape}\")\n",
    "    print(f\"Detected anomalies: {np.mean(outcome)*100}%\")\n",
    "    print()"
   ]
  },
  {
   "cell_type": "code",
   "execution_count": 9,
   "metadata": {
    "execution": {
     "iopub.execute_input": "2021-06-27T19:42:56.118501Z",
     "iopub.status.busy": "2021-06-27T19:42:56.117963Z",
     "iopub.status.idle": "2021-06-27T19:44:26.795945Z",
     "shell.execute_reply": "2021-06-27T19:44:26.794964Z",
     "shell.execute_reply.started": "2021-06-27T19:42:56.118462Z"
    }
   },
   "outputs": [
    {
     "name": "stdout",
     "output_type": "stream",
     "text": [
      "0\n",
      "Shape of data: (9548, 115)\n",
      "Detected anomalies: 0.6020914756522657%\n",
      "\n",
      "1\n",
      "Shape of data: (107685, 115)\n",
      "Detected anomalies: 100.0%\n",
      "\n",
      "2\n",
      "Shape of data: (102195, 115)\n",
      "Detected anomalies: 100.0%\n",
      "\n",
      "3\n",
      "Shape of data: (122573, 115)\n",
      "Detected anomalies: 100.0%\n",
      "\n",
      "4\n",
      "Shape of data: (237665, 115)\n",
      "Detected anomalies: 100.0%\n",
      "\n",
      "5\n",
      "Shape of data: (81982, 115)\n",
      "Detected anomalies: 100.0%\n",
      "\n"
     ]
    }
   ],
   "source": [
    "test_data = [X_test0, X_test1, X_test2, X_test3, X_test4, X_test5]\n",
    "\n",
    "for i, x in enumerate(test_data):\n",
    "    print(i)\n",
    "    outcome = predict(x)\n",
    "    print_stats(x, outcome)"
   ]
  },
  {
   "cell_type": "markdown",
   "metadata": {},
   "source": []
  }
 ],
 "metadata": {
  "kernelspec": {
   "display_name": "Python 3 (ipykernel)",
   "language": "python",
   "name": "python3"
  },
  "language_info": {
   "codemirror_mode": {
    "name": "ipython",
    "version": 3
   },
   "file_extension": ".py",
   "mimetype": "text/x-python",
   "name": "python",
   "nbconvert_exporter": "python",
   "pygments_lexer": "ipython3",
   "version": "3.8.11"
  }
 },
 "nbformat": 4,
 "nbformat_minor": 4
}
